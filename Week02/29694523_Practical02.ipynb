{
 "cells": [
  {
   "cell_type": "markdown",
   "id": "4fa5af38",
   "metadata": {
    "cell_id": "2a0b5982-5277-4840-b6bf-76731011c2d3",
    "deepnote_cell_height": 82,
    "deepnote_cell_type": "markdown"
   },
   "source": [
    "# Practical 02 Exercises"
   ]
  },
  {
   "cell_type": "markdown",
   "id": "f07bb2f1",
   "metadata": {
    "cell_id": "00001-38498478-8199-4a5d-9c3e-2e44a7444a81",
    "deepnote_cell_height": 52.399993896484375,
    "deepnote_cell_type": "markdown"
   },
   "source": [
    "Note: Only the full trajectories will be displayed for Exercise 2 and 3"
   ]
  },
  {
   "cell_type": "code",
   "execution_count": 22,
   "id": "1e6fd24d",
   "metadata": {
    "cell_id": "00003-d396f4fb-6691-4704-beae-8380609490b0",
    "deepnote_cell_height": 117,
    "deepnote_cell_type": "code",
    "deepnote_to_be_reexecuted": false,
    "execution_millis": 1,
    "execution_start": 1658110137549,
    "source_hash": "12006dd8"
   },
   "outputs": [],
   "source": [
    "import numpy as np\n",
    "from Practical02_Support.Renderer import *\n",
    "from ece4078.Utility import StartMeshcat"
   ]
  },
  {
   "cell_type": "code",
   "execution_count": 23,
   "id": "02f44397",
   "metadata": {
    "cell_id": "7d6106c67fc94f998573430e67f3f40b",
    "deepnote_cell_height": 182.39999389648438,
    "deepnote_cell_type": "code",
    "deepnote_output_heights": [
     null,
     21
    ],
    "deepnote_to_be_reexecuted": false,
    "execution_millis": 14,
    "execution_start": 1658110140001,
    "source_hash": "34afddb1",
    "tags": []
   },
   "outputs": [
    {
     "name": "stdout",
     "output_type": "stream",
     "text": [
      "You can open the visualizer by visiting the following URL:\n",
      "http://127.0.0.1:7001/static/\n"
     ]
    },
    {
     "data": {
      "text/html": [
       "Meshcat URL if you are on local machine: <a href='http://127.0.0.1:7001/static/' target='_blank'>http://127.0.0.1:7001/static/</a>"
      ],
      "text/plain": [
       "<IPython.core.display.HTML object>"
      ]
     },
     "metadata": {},
     "output_type": "display_data"
    }
   ],
   "source": [
    "vis = StartMeshcat()"
   ]
  },
  {
   "cell_type": "markdown",
   "id": "7a3c67a8",
   "metadata": {
    "cell_id": "00004-944a571e-50a9-4e78-84a6-2d21b56d556f",
    "deepnote_cell_height": 82,
    "deepnote_cell_type": "markdown"
   },
   "source": [
    "# Coding exercises"
   ]
  },
  {
   "cell_type": "markdown",
   "id": "c1a5ce35",
   "metadata": {
    "cell_id": "00005-7e7ddc12-aa65-46b9-818f-263f2837edfa",
    "deepnote_cell_height": 849.2000122070312,
    "deepnote_cell_type": "markdown"
   },
   "source": [
    "# Exercise 1 (2pts): Determine the Location of the Front Wheel \n",
    "    \n",
    "![bicycle.png](https://i.postimg.cc/Z5NW5KCN/zIhei8A.png)\n",
    "\n",
    "Given the known 2D location of the centre of the rear wheel of the bicycle ($x$, $y$), determine the location of the centre of the front wheel ($x_f, y_f$) in the world frame. \n",
    "\n",
    "**Input**:\n",
    "- 1D array of shape 2x1 with the location of the rear wheel (rear_wheel_loc)\n",
    "- Orientation of the bicycle in radians (theta)\n",
    "- Bicycle length (length)\n",
    "\n",
    "**Output**:\n",
    "- 1D array of shape 2x1 with the location of the front wheel in the world frame (values should not be rounded)"
   ]
  },
  {
   "cell_type": "code",
   "execution_count": 24,
   "id": "f59905f7",
   "metadata": {
    "cell_id": "00006-97e3aef1-0f76-4fab-aad0-a1abf4d2d394",
    "deepnote_cell_height": 225,
    "deepnote_cell_type": "code",
    "deepnote_to_be_reexecuted": false,
    "execution_millis": 1,
    "execution_start": 1658110143919,
    "source_hash": "c840dbc6"
   },
   "outputs": [],
   "source": [
    "def get_front_wheel_location(rear_wheel_loc=np.zeros(2), theta=0, length=0):\n",
    "    front_wheel_loc = np.zeros(2)\n",
    "    \n",
    "    #TODO: Add your code here  ------------------------------------------\n",
    "    front_wheel_loc[0] = rear_wheel_loc[0] + length*np.cos(theta)\n",
    "    front_wheel_loc[1] = rear_wheel_loc[1] + length*np.sin(theta)\n",
    "    #ENDTODO -----------------------------------------------------------\n",
    "    \n",
    "    return front_wheel_loc"
   ]
  },
  {
   "cell_type": "markdown",
   "id": "74e3e250",
   "metadata": {
    "cell_id": "00007-3ee83e79-391a-4148-b17f-d47868470e61",
    "deepnote_cell_height": 133.60000610351562,
    "deepnote_cell_type": "markdown"
   },
   "source": [
    "**Test your code**\n",
    "\n",
    "We have included a plot function ``display_bycicle_wheels`` to help you verify your answers. The function will display two frames, one to represent the rear wheel (red) and another to represent the front wheel (blue). Similarly, the function assumes that the steering angle $\\delta$ is set to zero. Here is an example of how to use it:"
   ]
  },
  {
   "cell_type": "code",
   "execution_count": 25,
   "id": "55944b70",
   "metadata": {
    "cell_id": "00008-19439ddf-e950-4e50-8b31-ad81ef2fa81b",
    "deepnote_cell_height": 500,
    "deepnote_cell_type": "code",
    "deepnote_output_heights": [
     331
    ],
    "deepnote_to_be_reexecuted": false,
    "execution_millis": 361,
    "execution_start": 1658110145514,
    "source_hash": "97d48256"
   },
   "outputs": [
    {
     "data": {
      "image/png": "[encoded data removed]",
      "text/plain": [
       "<Figure size 500x500 with 1 Axes>"
      ]
     },
     "metadata": {},
     "output_type": "display_data"
    }
   ],
   "source": [
    "rear_wheel = np.ones(2)*2\n",
    "theta_angle = np.pi/4\n",
    "front_wheel = get_front_wheel_location(rear_wheel_loc=rear_wheel, theta=theta_angle, length=1.5)\n",
    "\n",
    "display_bicycle_wheels(rear_wheel, front_wheel, theta=theta_angle)"
   ]
  },
  {
   "cell_type": "markdown",
   "id": "b6f36832",
   "metadata": {
    "cell_id": "00009-88189626-fa14-4315-bb49-6596c1006cb6",
    "deepnote_cell_height": 128.35000610351562,
    "deepnote_cell_type": "markdown",
    "editable": true,
    "slideshow": {
     "slide_type": ""
    },
    "tags": []
   },
   "source": [
    "As visual test cases, we recommend to consider:\n",
    "\n",
    "- Where should be the front wheel if $\\theta=0$?\n",
    "- Where should be the front wheel if $\\theta=\\frac{\\pi}{2}$?"
   ]
  },
  {
   "cell_type": "markdown",
   "id": "a0be9361",
   "metadata": {
    "cell_id": "00010-afde78ba-906c-490c-bd39-50a5c66c24c6",
    "deepnote_cell_height": 514.2000122070312,
    "deepnote_cell_type": "markdown",
    "editable": true,
    "slideshow": {
     "slide_type": ""
    },
    "tags": []
   },
   "source": [
    "### Exercise 2 (3pts): Extend Bicycle Model to Consider Velocity and Steering Angle Rate as Inputs\n",
    "    \n",
    "In the example of the bicycle model, the bicycle took as inputs velocity $v$ and steering angle $\\delta$.\n",
    "\n",
    "We now want to modify our model so that it receives velocity $v$ and steering rate $\\varphi$ as control inputs instead. With this new control input, the bicycle state is now defined by its 2D position $(x,y)$,  orientation ($\\theta$) and steering angle ($\\delta$).\n",
    "\n",
    "You are tasked with deriving the revised model to handle the modified inputs and using the new model to compute the bicycle state for a total of $max\\_T$ iterations using this new control input.\n",
    "\n",
    "Your code should input a constant input velocity and steering rate at each time step.\n",
    "\n",
    "**Input**:\n",
    "- 1D array with the initial bicycle state $[x, y, \\theta, \\delta]$\n",
    "- Bicycle length (length)\n",
    "- Maximum number of iterations (max_t)\n",
    "- Input velocity ($v_i$)\n",
    "- Input Steering_rate (phi)\n",
    "\n",
    "\n",
    "**Output**:\n",
    "- Array of bicycle states of length max_t. Column order must be $[x, y, \\theta, \\delta]$ (values should not be rounded)"
   ]
  },
  {
   "cell_type": "code",
   "execution_count": 26,
   "id": "bf664af0",
   "metadata": {
    "cell_id": "00011-3b8241af-ed08-44b6-a296-523f65d04d04",
    "deepnote_cell_height": 819,
    "deepnote_cell_type": "code",
    "deepnote_to_be_reexecuted": false,
    "execution_millis": 2,
    "execution_start": 1658110150382,
    "source_hash": "d16fbf1c"
   },
   "outputs": [],
   "source": [
    "def get_bicycle_trajectory(initial_state = np.array([1, 1, 0, 0]), length=1, max_t=100, v=0, phi=0):\n",
    "    \n",
    "    dt = 0.02\n",
    "    states = np.zeros((max_t+1, initial_state.shape[0]))\n",
    "    states[0,:] = initial_state\n",
    "    \n",
    "    \n",
    "    #TODO: Add your code here --------------------------------------------\n",
    "    for i in range(max_t):\n",
    "        states[i+1][0] = states[i][0] + v*np.cos(states[i][2])*dt\n",
    "        states[i+1][1] = states[i][1] + v*np.sin(states[i][2])*dt\n",
    "        states[i+1][2] = states[i][2] + v*np.tan(states[i][3])*dt/length\n",
    "        states[i+1][3] = states[i][3] + phi*dt\n",
    "        \n",
    "    #ENDTODO -------------------------------------------------------------\n",
    "        \n",
    "    return states"
   ]
  },
  {
   "cell_type": "markdown",
   "id": "05961b6d",
   "metadata": {
    "cell_id": "00012-55dd77d7-f0fd-4111-85a1-4e09644aa41a",
    "deepnote_cell_height": 88.80000305175781,
    "deepnote_cell_type": "markdown"
   },
   "source": [
    "**Test your code**\n",
    "\n",
    "We have included a rendering class to help you verify your answers. Here is an example of how to use it:"
   ]
  },
  {
   "cell_type": "code",
   "execution_count": 27,
   "id": "c3a3e948",
   "metadata": {
    "cell_id": "00013-f7751fbc-5e80-4dc8-a9e5-87378457bcd7",
    "deepnote_cell_height": 315,
    "deepnote_cell_type": "code",
    "deepnote_to_be_reexecuted": false,
    "editable": true,
    "execution_millis": 37,
    "execution_start": 1658110171247,
    "output_cleared": true,
    "slideshow": {
     "slide_type": ""
    },
    "source_hash": "480062fe",
    "tags": []
   },
   "outputs": [
    {
     "data": {
      "application/vnd.jupyter.widget-view+json": {
       "model_id": "4908f2e8aa86459486b2d7de62395700",
       "version_major": 2,
       "version_minor": 0
      },
      "text/plain": [
       "HBox(children=(Button(button_style='success', description='Play/Pause', layout=Layout(flex='1 1 0%', width='au…"
      ]
     },
     "metadata": {},
     "output_type": "display_data"
    },
    {
     "data": {
      "application/vnd.jupyter.widget-view+json": {
       "model_id": "8e018bab609f4caeaaab623f96ea7c4d",
       "version_major": 2,
       "version_minor": 0
      },
      "text/plain": [
       "HTML(value='\\n                <div style=\"height: 400px; width: 100%; overflow-x: auto; overflow-y: hidden; re…"
      ]
     },
     "metadata": {},
     "output_type": "display_data"
    }
   ],
   "source": [
    "# Input parameters\n",
    "initial_state=np.array([5, -5, np.pi/2, 0.1])\n",
    "length=1\n",
    "max_t=250\n",
    "v_i=2.3\n",
    "phi=0.2\n",
    "\n",
    "trj = get_bicycle_trajectory(initial_state, length, max_t, v_i, phi)\n",
    "\n",
    "vis.delete()\n",
    "vis.Set2DView(scale = abs(initial_state[0]) + 1)\n",
    "vis.mask_origin()\n",
    "display_traj(vis, trj[:, :3], scale = 6)\n",
    "display(vis.show_inline())"
   ]
  },
  {
   "cell_type": "markdown",
   "id": "1dbd2c7e",
   "metadata": {
    "cell_id": "00014-42684fae-6a47-4104-a8c6-ab2303f14729",
    "deepnote_cell_height": 153.60000610351562,
    "deepnote_cell_type": "markdown",
    "editable": true,
    "slideshow": {
     "slide_type": ""
    },
    "tags": []
   },
   "source": [
    "As visual test cases, we recommend you to keep in mind that:\n",
    "\n",
    "- The bicycle should move in a straight line if $\\delta=0$, and $\\varphi=0$\n",
    "- The bicycle should move in a circular trajectory if $v \\ne 0$, $\\delta \\ne 0$, and $\\varphi=0$\n",
    "- The bicycle should move in a spiral trajectory if $v \\ne 0$, and $\\varphi\\ne0$"
   ]
  },
  {
   "cell_type": "markdown",
   "id": "7f77a2dc",
   "metadata": {
    "cell_id": "00015-229c5b94-d897-426a-9daa-0d8adedf566e",
    "deepnote_cell_height": 943.7333374023438,
    "deepnote_cell_type": "markdown"
   },
   "source": [
    "### Exercise 3 (2pts): Differential Drive Kinematic Model\n",
    "\n",
    "Let us consider a two-wheeled vehicle that has the rotation rate of the wheels as control inputs. \n",
    "\n",
    "![diff_drive.png](https://i.postimg.cc/ryfKTG60/IuNNzVB.png)\n",
    "\n",
    "Given the kinematic constraints that relate the wheel rotation rates to the linear and angular velocity of the PenguiPi robot: \n",
    "\n",
    "$$\n",
    "v=\\frac{rw_1 + rw_2}{2} \n",
    "$$\n",
    "$$\n",
    "\\omega=\\frac{rw_1 - rw_2}{l}\n",
    "$$\n",
    "\n",
    "compute the state, i.e., $[x, y, \\theta]$ of the PenguiPi robot for a total of $T_{max}$ iterations using this new control input.\n",
    "\n",
    "**Input**:\n",
    "- 1D array with the initial robot state $[x, y, \\theta]$\n",
    "- Wheels width (length, l)\n",
    "- Wheels radius (wheel_radius, r)\n",
    "- Maximum number of iterations (max_t)\n",
    "- Rotation rate of the right wheel (right_rate)\n",
    "- Rotation rate of the left wheel (left_rate)\n",
    "\n",
    "**Output**:\n",
    "- Array of robot states of lenght max_t. Column order must be $[x, y, \\theta]$ (values should not be rounded)"
   ]
  },
  {
   "cell_type": "code",
   "execution_count": 28,
   "id": "4c22daea",
   "metadata": {
    "cell_id": "00016-4941fc4c-939f-467a-b9d6-71ae1b7f9484",
    "deepnote_cell_height": 693,
    "deepnote_cell_type": "code",
    "deepnote_to_be_reexecuted": false,
    "execution_millis": 1,
    "execution_start": 1658110193285,
    "source_hash": "a843f10c"
   },
   "outputs": [],
   "source": [
    "def get_penguipi_trajectory(initial_state = np.array([1, 1, 0]), length=1, wheel_radius=0.1,\n",
    "                            right_rate=0, left_rate=0, max_t=100):\n",
    "    \n",
    "    dt = 0.1\n",
    "    states = np.zeros((max_t+1, initial_state.shape[0]))\n",
    "    states[0, :] = initial_state\n",
    "    \n",
    "    #TODO: Add your code here --------------------------------------------\n",
    "    for i in range(max_t):\n",
    "        states[i+1][0] = states[i][0] + np.cos(states[i][2])*wheel_radius*(left_rate+right_rate)*dt/2\n",
    "        states[i+1][1] = states[i][1] + np.sin(states[i][2])*wheel_radius*(left_rate+right_rate)*dt/2\n",
    "        states[i+1][2] = states[i][2] + wheel_radius*(left_rate-right_rate)*dt/length\n",
    "\n",
    "    #ENDTODO -------------------------------------------------------------\n",
    "        \n",
    "    return states"
   ]
  },
  {
   "cell_type": "markdown",
   "id": "aac80076",
   "metadata": {
    "cell_id": "00017-f4f25875-ff3b-4a8c-a6db-001c5207b629",
    "deepnote_cell_height": 88.80000305175781,
    "deepnote_cell_type": "markdown"
   },
   "source": [
    "**Test your code**\n",
    "\n",
    "We have included a rendering class to help you verify your answers. Here is an example of how to use it:\n"
   ]
  },
  {
   "cell_type": "code",
   "execution_count": 29,
   "id": "00e3b68c",
   "metadata": {
    "cell_id": "00018-0aade051-b240-4349-a6cc-b1c03b576732",
    "deepnote_cell_height": 878,
    "deepnote_cell_type": "code",
    "deepnote_to_be_reexecuted": false,
    "editable": true,
    "execution_millis": 36,
    "execution_start": 1658110216836,
    "owner_user_id": "39e5588c-373b-434e-8bfa-8e48976ef92a",
    "slideshow": {
     "slide_type": ""
    },
    "source_hash": "43ed3677",
    "tags": []
   },
   "outputs": [
    {
     "data": {
      "application/vnd.jupyter.widget-view+json": {
       "model_id": "6be80d78f2dc4fe28f01fbb90833e4d5",
       "version_major": 2,
       "version_minor": 0
      },
      "text/plain": [
       "HBox(children=(Button(button_style='success', description='Play/Pause', layout=Layout(flex='1 1 0%', width='au…"
      ]
     },
     "metadata": {},
     "output_type": "display_data"
    },
    {
     "data": {
      "application/vnd.jupyter.widget-view+json": {
       "model_id": "bc78c14cdaf044be9cd53300ef819be3",
       "version_major": 2,
       "version_minor": 0
      },
      "text/plain": [
       "HTML(value='\\n                <div style=\"height: 400px; width: 100%; overflow-x: auto; overflow-y: hidden; re…"
      ]
     },
     "metadata": {},
     "output_type": "display_data"
    }
   ],
   "source": [
    "# Input parameters\n",
    "initial_state=np.array([0, 0, np.pi/6])\n",
    "length=1\n",
    "wheel_radius=0.2\n",
    "right_rate=5\n",
    "left_rate=5\n",
    "max_t=100\n",
    "\n",
    "trj = get_penguipi_trajectory(initial_state, length, wheel_radius, right_rate, left_rate, max_t)\n",
    "\n",
    "vis.delete()\n",
    "vis.Set2DView(scale = 4)\n",
    "vis.mask_origin()\n",
    "display_traj(vis, trj[:, :3], scale = 6)\n",
    "display(vis.show_inline())"
   ]
  },
  {
   "cell_type": "markdown",
   "id": "e1476261",
   "metadata": {
    "cell_id": "00019-f80b10a8-1bbe-46fa-b584-3d3ad31592b6",
    "deepnote_cell_height": 153.60000610351562,
    "deepnote_cell_type": "markdown",
    "editable": true,
    "slideshow": {
     "slide_type": ""
    },
    "tags": []
   },
   "source": [
    "As visual test cases, we recommend you to keep in mind that:\n",
    "\n",
    "- The PenguiPi robot should move in a straight line if $w_1=w_2$\n",
    "- The PenguiPi robot should turn to the left if $w_1>w_2$ (the right wheel moves faster than the left wheel)\n",
    "- The PenguiPi robot should turn to the right if $w_1<w_2$ (the left wheel moves faster than the right wheel)"
   ]
  },
  {
   "cell_type": "markdown",
   "id": "e160110a",
   "metadata": {},
   "source": [
    "# Grading\n",
    "Test cases for giving marks:\n",
    "- q1: Assess the `get_front_wheel_location` function (2 points)\n",
    "- q2: Assess the `get_bicycle_trajectory` function (3 points)\n",
    "- q3: Assess the `get_penguipi_trajectory` function (2 points)\n",
    "\n",
    "Hint: For question 2 and question 3, the body should have something like \n",
    "```\n",
    "for i in range(max_t):\n",
    "    ...\n",
    "    states[i+1,:] = ...\n",
    "```\n",
    "Because this is how the solution is constructed, the trajectory has `states[0, :] = initial_state` and the length of the trajectory should be equal to `max_t + 1`"
   ]
  },
  {
   "cell_type": "code",
   "execution_count": 30,
   "id": "3485752e",
   "metadata": {
    "editable": true,
    "slideshow": {
     "slide_type": ""
    },
    "tags": []
   },
   "outputs": [
    {
     "ename": "RuntimeError",
     "evalue": "Malformed test file: does not define the global variable 'OK_FORMAT'",
     "output_type": "error",
     "traceback": [
      "\u001b[1;31m---------------------------------------------------------------------------\u001b[0m",
      "\u001b[1;31mRuntimeError\u001b[0m                              Traceback (most recent call last)",
      "Cell \u001b[1;32mIn[30], line 3\u001b[0m\n\u001b[0;32m      1\u001b[0m \u001b[39mimport\u001b[39;00m \u001b[39motter\u001b[39;00m\n\u001b[0;32m      2\u001b[0m grader \u001b[39m=\u001b[39m otter\u001b[39m.\u001b[39mNotebook(tests_dir \u001b[39m=\u001b[39m \u001b[39m\"\u001b[39m\u001b[39mPractical02_Support/tests\u001b[39m\u001b[39m\"\u001b[39m)\n\u001b[1;32m----> 3\u001b[0m grader\u001b[39m.\u001b[39;49mcheck_all()\n",
      "File \u001b[1;32mc:\\Users\\abhch\\.conda\\envs\\ece4078\\lib\\site-packages\\otter\\check\\utils.py:157\u001b[0m, in \u001b[0;36mgrading_mode_disabled\u001b[1;34m(wrapped, self, args, kwargs)\u001b[0m\n\u001b[0;32m    155\u001b[0m \u001b[39mif\u001b[39;00m \u001b[39mtype\u001b[39m(\u001b[39mself\u001b[39m)\u001b[39m.\u001b[39m_grading_mode:\n\u001b[0;32m    156\u001b[0m     \u001b[39mreturn\u001b[39;00m\n\u001b[1;32m--> 157\u001b[0m \u001b[39mreturn\u001b[39;00m wrapped(\u001b[39m*\u001b[39margs, \u001b[39m*\u001b[39m\u001b[39m*\u001b[39mkwargs)\n",
      "File \u001b[1;32mc:\\Users\\abhch\\.conda\\envs\\ece4078\\lib\\site-packages\\otter\\check\\utils.py:194\u001b[0m, in \u001b[0;36mlogs_event.<locals>.event_logger\u001b[1;34m(wrapped, self, args, kwargs)\u001b[0m\n\u001b[0;32m    192\u001b[0m \u001b[39mexcept\u001b[39;00m \u001b[39mException\u001b[39;00m \u001b[39mas\u001b[39;00m e:\n\u001b[0;32m    193\u001b[0m     \u001b[39mself\u001b[39m\u001b[39m.\u001b[39m_log_event(event_type, success\u001b[39m=\u001b[39m\u001b[39mFalse\u001b[39;00m, error\u001b[39m=\u001b[39me)\n\u001b[1;32m--> 194\u001b[0m     \u001b[39mraise\u001b[39;00m e\n\u001b[0;32m    196\u001b[0m \u001b[39melse\u001b[39;00m:\n\u001b[0;32m    197\u001b[0m     \u001b[39mself\u001b[39m\u001b[39m.\u001b[39m_log_event(event_type, results\u001b[39m=\u001b[39mresults, question\u001b[39m=\u001b[39mquestion, shelve_env\u001b[39m=\u001b[39mshelve_env)\n",
      "File \u001b[1;32mc:\\Users\\abhch\\.conda\\envs\\ece4078\\lib\\site-packages\\otter\\check\\utils.py:188\u001b[0m, in \u001b[0;36mlogs_event.<locals>.event_logger\u001b[1;34m(wrapped, self, args, kwargs)\u001b[0m\n\u001b[0;32m    185\u001b[0m     question, results, shelve_env \u001b[39m=\u001b[39m wrapped(\u001b[39m*\u001b[39margs, \u001b[39m*\u001b[39m\u001b[39m*\u001b[39mkwargs)\n\u001b[0;32m    187\u001b[0m \u001b[39melse\u001b[39;00m:\n\u001b[1;32m--> 188\u001b[0m     results \u001b[39m=\u001b[39m wrapped(\u001b[39m*\u001b[39margs, \u001b[39m*\u001b[39m\u001b[39m*\u001b[39mkwargs)\n\u001b[0;32m    189\u001b[0m     shelve_env \u001b[39m=\u001b[39m {}\n\u001b[0;32m    190\u001b[0m     question \u001b[39m=\u001b[39m \u001b[39mNone\u001b[39;00m\n",
      "File \u001b[1;32mc:\\Users\\abhch\\.conda\\envs\\ece4078\\lib\\site-packages\\otter\\check\\notebook.py:435\u001b[0m, in \u001b[0;36mNotebook.check_all\u001b[1;34m(self)\u001b[0m\n\u001b[0;32m    433\u001b[0m \u001b[39mif\u001b[39;00m \u001b[39mnot\u001b[39;00m _SHELVE:\n\u001b[0;32m    434\u001b[0m     \u001b[39mfor\u001b[39;00m test_name \u001b[39min\u001b[39;00m tests:\n\u001b[1;32m--> 435\u001b[0m         results\u001b[39m.\u001b[39mappend(\u001b[39mself\u001b[39;49m\u001b[39m.\u001b[39;49mcheck(test_name, global_env))\n\u001b[0;32m    437\u001b[0m \u001b[39melse\u001b[39;00m:\n\u001b[0;32m    438\u001b[0m     log \u001b[39m=\u001b[39m Log\u001b[39m.\u001b[39mfrom_file(_OTTER_LOG_FILENAME, ascending\u001b[39m=\u001b[39m\u001b[39mFalse\u001b[39;00m)\n",
      "File \u001b[1;32mc:\\Users\\abhch\\.conda\\envs\\ece4078\\lib\\site-packages\\otter\\check\\utils.py:194\u001b[0m, in \u001b[0;36mlogs_event.<locals>.event_logger\u001b[1;34m(wrapped, self, args, kwargs)\u001b[0m\n\u001b[0;32m    192\u001b[0m \u001b[39mexcept\u001b[39;00m \u001b[39mException\u001b[39;00m \u001b[39mas\u001b[39;00m e:\n\u001b[0;32m    193\u001b[0m     \u001b[39mself\u001b[39m\u001b[39m.\u001b[39m_log_event(event_type, success\u001b[39m=\u001b[39m\u001b[39mFalse\u001b[39;00m, error\u001b[39m=\u001b[39me)\n\u001b[1;32m--> 194\u001b[0m     \u001b[39mraise\u001b[39;00m e\n\u001b[0;32m    196\u001b[0m \u001b[39melse\u001b[39;00m:\n\u001b[0;32m    197\u001b[0m     \u001b[39mself\u001b[39m\u001b[39m.\u001b[39m_log_event(event_type, results\u001b[39m=\u001b[39mresults, question\u001b[39m=\u001b[39mquestion, shelve_env\u001b[39m=\u001b[39mshelve_env)\n",
      "File \u001b[1;32mc:\\Users\\abhch\\.conda\\envs\\ece4078\\lib\\site-packages\\otter\\check\\utils.py:185\u001b[0m, in \u001b[0;36mlogs_event.<locals>.event_logger\u001b[1;34m(wrapped, self, args, kwargs)\u001b[0m\n\u001b[0;32m    183\u001b[0m \u001b[39mtry\u001b[39;00m:\n\u001b[0;32m    184\u001b[0m     \u001b[39mif\u001b[39;00m event_type \u001b[39m==\u001b[39m EventType\u001b[39m.\u001b[39mCHECK:\n\u001b[1;32m--> 185\u001b[0m         question, results, shelve_env \u001b[39m=\u001b[39m wrapped(\u001b[39m*\u001b[39margs, \u001b[39m*\u001b[39m\u001b[39m*\u001b[39mkwargs)\n\u001b[0;32m    187\u001b[0m     \u001b[39melse\u001b[39;00m:\n\u001b[0;32m    188\u001b[0m         results \u001b[39m=\u001b[39m wrapped(\u001b[39m*\u001b[39margs, \u001b[39m*\u001b[39m\u001b[39m*\u001b[39mkwargs)\n",
      "File \u001b[1;32mc:\\Users\\abhch\\.conda\\envs\\ece4078\\lib\\site-packages\\otter\\check\\notebook.py:209\u001b[0m, in \u001b[0;36mNotebook.check\u001b[1;34m(self, question, global_env)\u001b[0m\n\u001b[0;32m    207\u001b[0m \u001b[39m# run the check\u001b[39;00m\n\u001b[0;32m    208\u001b[0m \u001b[39mself\u001b[39m\u001b[39m.\u001b[39m_logger\u001b[39m.\u001b[39mdebug(\u001b[39mf\u001b[39m\u001b[39m\"\u001b[39m\u001b[39mCalling checker\u001b[39m\u001b[39m\"\u001b[39m)\n\u001b[1;32m--> 209\u001b[0m result \u001b[39m=\u001b[39m Checker\u001b[39m.\u001b[39;49mcheck(test_path, test_name, global_env)\n\u001b[0;32m    211\u001b[0m \u001b[39mreturn\u001b[39;00m question, result, global_env\n",
      "File \u001b[1;32mc:\\Users\\abhch\\.conda\\envs\\ece4078\\lib\\site-packages\\otter\\execute\\checker.py:68\u001b[0m, in \u001b[0;36mChecker.check\u001b[1;34m(cls, nb_or_test_path, test_name, global_env)\u001b[0m\n\u001b[0;32m     52\u001b[0m \u001b[39m@classmethod\u001b[39m\n\u001b[0;32m     53\u001b[0m \u001b[39mdef\u001b[39;00m \u001b[39mcheck\u001b[39m(\u001b[39mcls\u001b[39m, nb_or_test_path, test_name\u001b[39m=\u001b[39m\u001b[39mNone\u001b[39;00m, global_env\u001b[39m=\u001b[39m\u001b[39mNone\u001b[39;00m):\n\u001b[0;32m     54\u001b[0m \u001b[39m    \u001b[39m\u001b[39m\"\"\"\u001b[39;00m\n\u001b[0;32m     55\u001b[0m \u001b[39m    Checks a global environment against a test, which may be stored in a file or in a notebook's\u001b[39;00m\n\u001b[0;32m     56\u001b[0m \u001b[39m    metadata.\u001b[39;00m\n\u001b[1;32m   (...)\u001b[0m\n\u001b[0;32m     66\u001b[0m \u001b[39m        given global environment\u001b[39;00m\n\u001b[0;32m     67\u001b[0m \u001b[39m    \"\"\"\u001b[39;00m\n\u001b[1;32m---> 68\u001b[0m     test \u001b[39m=\u001b[39m create_test_file(nb_or_test_path, test_name\u001b[39m=\u001b[39;49mtest_name)\n\u001b[0;32m     70\u001b[0m     \u001b[39mif\u001b[39;00m global_env \u001b[39mis\u001b[39;00m \u001b[39mNone\u001b[39;00m:\n\u001b[0;32m     71\u001b[0m         global_env \u001b[39m=\u001b[39m inspect\u001b[39m.\u001b[39mcurrentframe()\u001b[39m.\u001b[39mf_back\u001b[39m.\u001b[39mf_globals\n",
      "File \u001b[1;32mc:\\Users\\abhch\\.conda\\envs\\ece4078\\lib\\site-packages\\otter\\test_files\\__init__.py:52\u001b[0m, in \u001b[0;36mcreate_test_file\u001b[1;34m(path, test_name)\u001b[0m\n\u001b[0;32m     49\u001b[0m     exec(f\u001b[39m.\u001b[39mread(), env)\n\u001b[0;32m     51\u001b[0m \u001b[39mif\u001b[39;00m OK_FORMAT_VARNAME \u001b[39mnot\u001b[39;00m \u001b[39min\u001b[39;00m env:\n\u001b[1;32m---> 52\u001b[0m     \u001b[39mraise\u001b[39;00m \u001b[39mRuntimeError\u001b[39;00m(\u001b[39mf\u001b[39m\u001b[39m\"\u001b[39m\u001b[39mMalformed test file: does not define the global variable \u001b[39m\u001b[39m'\u001b[39m\u001b[39m{\u001b[39;00mOK_FORMAT_VARNAME\u001b[39m}\u001b[39;00m\u001b[39m'\u001b[39m\u001b[39m\"\u001b[39m)\n\u001b[0;32m     54\u001b[0m \u001b[39mif\u001b[39;00m env[OK_FORMAT_VARNAME]:\n\u001b[0;32m     55\u001b[0m     \u001b[39mreturn\u001b[39;00m OKTestFile\u001b[39m.\u001b[39mfrom_file(path)\n",
      "\u001b[1;31mRuntimeError\u001b[0m: Malformed test file: does not define the global variable 'OK_FORMAT'"
     ]
    }
   ],
   "source": [
    "import otter\n",
    "grader = otter.Notebook(tests_dir = \"Practical02_Support/tests\")\n",
    "grader.check_all()"
   ]
  }
 ],
 "metadata": {
  "deepnote": {},
  "deepnote_execution_queue": [],
  "deepnote_notebook_id": "5c8567d1-80a3-4a5f-953d-816c417d2c17",
  "kernelspec": {
   "display_name": "Python 3 (ipykernel)",
   "language": "python",
   "name": "python3"
  },
  "language_info": {
   "codemirror_mode": {
    "name": "ipython",
    "version": 3
   },
   "file_extension": ".py",
   "mimetype": "text/x-python",
   "name": "python",
   "nbconvert_exporter": "python",
   "pygments_lexer": "ipython3",
   "version": "3.9.17"
  }
 },
 "nbformat": 4,
 "nbformat_minor": 5
}
